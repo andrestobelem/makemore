{
 "cells": [
  {
   "cell_type": "code",
   "execution_count": 1,
   "id": "e85cad70",
   "metadata": {},
   "outputs": [],
   "source": [
    "words = open('names_es_ar.txt').read().splitlines()"
   ]
  },
  {
   "cell_type": "code",
   "execution_count": 2,
   "id": "03e1fc46",
   "metadata": {},
   "outputs": [],
   "source": [
    "chars = sorted(list(set(\"\".join(words))))\n",
    "n = len(chars)\n",
    "stoi = {s: i + 1 for i, s in enumerate(chars)}\n",
    "stoi[\".\"] = 0\n",
    "itos = {i: s for s, i in stoi.items()}"
   ]
  },
  {
   "cell_type": "code",
   "execution_count": 3,
   "id": "2304fd23",
   "metadata": {},
   "outputs": [],
   "source": [
    "import torch\n",
    "import torch.nn.functional as F\n"
   ]
  },
  {
   "cell_type": "code",
   "execution_count": 4,
   "id": "e7daeaef",
   "metadata": {},
   "outputs": [],
   "source": [
    "N = torch.zeros((n + 1, n + 1), dtype=torch.int32)\n",
    "\n",
    "for w in words[:]:\n",
    "    chs = [\".\"] + list(w) + [\".\"]\n",
    "    for ch1, ch2 in zip(chs, chs[1:]):\n",
    "        ix1 = stoi[ch1]\n",
    "        ix2 = stoi[ch2]\n",
    "        N[ix1, ix2] += 1"
   ]
  },
  {
   "cell_type": "code",
   "execution_count": 5,
   "id": "14347ef3",
   "metadata": {},
   "outputs": [],
   "source": [
    "# import matplotlib.pyplot as plt\n",
    "# %matplotlib inline\n",
    "# plt.figure(figsize=(64,64))\n",
    "# plt.imshow(N, cmap='Blues')\n",
    "# for i in range(n+1):\n",
    "#     for j in range(n+1):\n",
    "#         chstr = itos[i] + itos[j]\n",
    "#         plt.text(j, i, chstr, ha=\"center\", va=\"bottom\", color=\"gray\")\n",
    "#         plt.text(j, i, N[i,j].item(), ha=\"center\", va=\"top\", color=\"gray\")\n",
    "# plt.axis('off')\n",
    "# plt.show()"
   ]
  },
  {
   "cell_type": "code",
   "execution_count": 6,
   "id": "7b8436fe",
   "metadata": {},
   "outputs": [
    {
     "data": {
      "text/plain": [
       "torch.Size([89, 89])"
      ]
     },
     "execution_count": 6,
     "metadata": {},
     "output_type": "execute_result"
    }
   ],
   "source": [
    "N.shape"
   ]
  },
  {
   "cell_type": "code",
   "execution_count": 7,
   "id": "7ec49c77",
   "metadata": {},
   "outputs": [
    {
     "data": {
      "text/plain": [
       "tensor([0.0000e+00, 1.4629e-03, 0.0000e+00, 1.3351e-01, 5.2003e-02, 4.1291e-02,\n",
       "        4.7190e-02, 5.6006e-02, 3.5215e-02, 3.9242e-02, 1.0078e-02, 3.4243e-02,\n",
       "        6.5522e-02, 2.0095e-02, 7.9756e-02, 1.0423e-01, 4.8391e-02, 1.1870e-02,\n",
       "        1.8327e-02, 8.2439e-04, 2.6547e-02, 5.1808e-02, 4.6156e-02, 8.3249e-03,\n",
       "        2.0410e-02, 5.5801e-03, 5.1179e-03, 2.1930e-02, 1.4267e-02, 0.0000e+00,\n",
       "        0.0000e+00, 0.0000e+00, 0.0000e+00, 0.0000e+00, 4.7652e-06, 0.0000e+00,\n",
       "        0.0000e+00, 0.0000e+00, 0.0000e+00, 0.0000e+00, 0.0000e+00, 0.0000e+00,\n",
       "        0.0000e+00, 0.0000e+00, 0.0000e+00, 0.0000e+00, 0.0000e+00, 0.0000e+00,\n",
       "        4.7652e-06, 0.0000e+00, 0.0000e+00, 0.0000e+00, 0.0000e+00, 0.0000e+00,\n",
       "        0.0000e+00, 0.0000e+00, 0.0000e+00, 9.5305e-06, 0.0000e+00, 3.7645e-04,\n",
       "        4.7652e-06, 0.0000e+00, 2.3826e-05, 4.7652e-05, 0.0000e+00, 0.0000e+00,\n",
       "        4.7652e-06, 0.0000e+00, 3.8122e-05, 5.7183e-05, 0.0000e+00, 0.0000e+00,\n",
       "        0.0000e+00, 0.0000e+00, 0.0000e+00, 0.0000e+00, 2.8591e-05, 0.0000e+00,\n",
       "        0.0000e+00, 0.0000e+00, 0.0000e+00, 0.0000e+00, 0.0000e+00, 0.0000e+00,\n",
       "        0.0000e+00, 0.0000e+00, 0.0000e+00, 0.0000e+00, 0.0000e+00])"
      ]
     },
     "execution_count": 7,
     "metadata": {},
     "output_type": "execute_result"
    }
   ],
   "source": [
    "p = N[0].float()\n",
    "p = p / p.sum()\n",
    "p"
   ]
  },
  {
   "cell_type": "code",
   "execution_count": 8,
   "id": "2761bae9",
   "metadata": {},
   "outputs": [
    {
     "data": {
      "text/plain": [
       "tensor(1.)"
      ]
     },
     "execution_count": 8,
     "metadata": {},
     "output_type": "execute_result"
    }
   ],
   "source": [
    "p.sum()"
   ]
  },
  {
   "cell_type": "code",
   "execution_count": 9,
   "id": "b1d6daec",
   "metadata": {},
   "outputs": [
    {
     "data": {
      "text/plain": [
       "'A'"
      ]
     },
     "execution_count": 9,
     "metadata": {},
     "output_type": "execute_result"
    }
   ],
   "source": [
    "g = torch.Generator().manual_seed(2147483647)\n",
    "ix = torch.multinomial(p, num_samples=1, replacement=True, generator=g).item()\n",
    "# ix\n",
    "itos[ix]"
   ]
  },
  {
   "cell_type": "code",
   "execution_count": 10,
   "id": "7c29ce6a",
   "metadata": {},
   "outputs": [
    {
     "data": {
      "text/plain": [
       "tensor([0.6064, 0.3033, 0.0903])"
      ]
     },
     "execution_count": 10,
     "metadata": {},
     "output_type": "execute_result"
    }
   ],
   "source": [
    "g = torch.Generator().manual_seed(2147483647)\n",
    "p = torch.rand(3, generator=g)\n",
    "p = p / p.sum()\n",
    "p"
   ]
  },
  {
   "cell_type": "code",
   "execution_count": 11,
   "id": "4db81728",
   "metadata": {},
   "outputs": [
    {
     "data": {
      "text/plain": [
       "tensor([1, 1, 2, 0, 0, 2, 1, 1, 0, 0, 0, 1, 1, 0, 0, 1, 1, 0, 0, 1, 0, 2, 0, 0,\n",
       "        1, 0, 0, 1, 0, 0, 0, 1, 1, 1, 0, 1, 1, 0, 0, 1, 1, 1, 0, 1, 1, 0, 1, 1,\n",
       "        0, 2, 0, 0, 0, 0, 0, 0, 0, 0, 0, 0, 1, 1, 0, 0, 0, 0, 0, 0, 0, 0, 1, 0,\n",
       "        0, 1, 0, 0, 0, 0, 0, 0, 0, 1, 2, 0, 0, 0, 0, 0, 0, 1, 0, 0, 2, 0, 1, 0,\n",
       "        0, 1, 1, 1])"
      ]
     },
     "execution_count": 11,
     "metadata": {},
     "output_type": "execute_result"
    }
   ],
   "source": [
    "torch.multinomial(p, num_samples=100, replacement=True, generator=g)"
   ]
  },
  {
   "cell_type": "code",
   "execution_count": 12,
   "id": "6a5075d8",
   "metadata": {},
   "outputs": [
    {
     "data": {
      "text/plain": [
       "tensor([[4.7632e-06, 1.4671e-03, 4.7632e-06,  ..., 4.7632e-06, 4.7632e-06,\n",
       "         4.7632e-06],\n",
       "        [7.4215e-03, 8.3341e-05, 8.3341e-06,  ..., 4.1670e-06, 4.1670e-06,\n",
       "         4.1670e-06],\n",
       "        [9.3458e-03, 2.8037e-02, 9.3458e-03,  ..., 9.3458e-03, 9.3458e-03,\n",
       "         9.3458e-03],\n",
       "        ...,\n",
       "        [2.4194e-02, 3.2258e-02, 8.0645e-03,  ..., 8.0645e-03, 8.0645e-03,\n",
       "         8.0645e-03],\n",
       "        [1.1111e-02, 1.1111e-02, 1.1111e-02,  ..., 1.1111e-02, 1.1111e-02,\n",
       "         1.1111e-02],\n",
       "        [1.1111e-02, 2.2222e-02, 1.1111e-02,  ..., 1.1111e-02, 1.1111e-02,\n",
       "         1.1111e-02]])"
      ]
     },
     "execution_count": 12,
     "metadata": {},
     "output_type": "execute_result"
    }
   ],
   "source": [
    "# Smoothing\n",
    "P = (N + 1).float()\n",
    "P /= P.sum(dim=1, keepdim=True)\n",
    "P"
   ]
  },
  {
   "cell_type": "code",
   "execution_count": 13,
   "id": "dccbe69d",
   "metadata": {},
   "outputs": [
    {
     "name": "stdout",
     "output_type": "stream",
     "text": [
      "Do \n",
      "Favis\n",
      "Jare Al\n",
      "Dah Va\n",
      "Ga\n",
      "Deladivir\n",
      "My\n",
      "Ado\n",
      "Kens Nasto\n",
      "Coagusinc Aabi\n"
     ]
    }
   ],
   "source": [
    "ix = 0\n",
    "\n",
    "for i in range(10):\n",
    "    while True:\n",
    "        p = P[ix]\n",
    "        ix = torch.multinomial(p, num_samples=1, replacement=True, generator=g).item()\n",
    "        if ix == 0:\n",
    "            break\n",
    "        print(itos[ix], end=\"\")\n",
    "    print()\n"
   ]
  },
  {
   "cell_type": "code",
   "execution_count": 14,
   "id": "0fd4168a",
   "metadata": {},
   "outputs": [
    {
     "name": "stdout",
     "output_type": "stream",
     "text": [
      "log_likelihood=tensor(-7390154.5000)\n",
      "nll/n=tensor(2.3178)\n"
     ]
    }
   ],
   "source": [
    "log_likelihood = 0.0\n",
    "n = 0\n",
    "for w in words[:]:\n",
    "    chs = [\".\"] + list(w) + [\".\"]\n",
    "    for ch1, ch2 in zip(chs, chs[1:]):\n",
    "        ix1 = stoi[ch1]\n",
    "        ix2 = stoi[ch2]\n",
    "        log_likelihood += torch.log(P[ix1, ix2])\n",
    "        n += 1\n",
    "nll = -log_likelihood\n",
    "print(f\"{log_likelihood=}\")\n",
    "print(f\"{nll/n=}\")"
   ]
  },
  {
   "cell_type": "code",
   "execution_count": 15,
   "id": "dc32f05c",
   "metadata": {},
   "outputs": [
    {
     "data": {
      "text/plain": [
       "tensor(-4.4886)"
      ]
     },
     "execution_count": 15,
     "metadata": {},
     "output_type": "execute_result"
    }
   ],
   "source": [
    "x = 1/89\n",
    "torch.log(torch.tensor(x))"
   ]
  },
  {
   "cell_type": "code",
   "execution_count": null,
   "id": "16120c04",
   "metadata": {},
   "outputs": [],
   "source": []
  },
  {
   "cell_type": "code",
   "execution_count": null,
   "id": "0d1989f1",
   "metadata": {},
   "outputs": [],
   "source": []
  }
 ],
 "metadata": {
  "kernelspec": {
   "display_name": ".venv",
   "language": "python",
   "name": "python3"
  },
  "language_info": {
   "codemirror_mode": {
    "name": "ipython",
    "version": 3
   },
   "file_extension": ".py",
   "mimetype": "text/x-python",
   "name": "python",
   "nbconvert_exporter": "python",
   "pygments_lexer": "ipython3",
   "version": "3.13.7"
  }
 },
 "nbformat": 4,
 "nbformat_minor": 5
}
